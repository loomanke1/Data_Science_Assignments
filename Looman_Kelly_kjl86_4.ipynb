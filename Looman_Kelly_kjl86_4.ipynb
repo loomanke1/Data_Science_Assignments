{
 "cells": [
  {
   "cell_type": "markdown",
   "source": [
    "### PPOL 564: Assignment 01 \n",
    "#### Kelly Looman "
   ],
   "metadata": {}
  },
  {
   "cell_type": "markdown",
   "source": [
    "##### Question 1"
   ],
   "metadata": {}
  },
  {
   "cell_type": "markdown",
   "source": [
    "###### (a) What is meant by “reproducibility” and why is it important?\n",
    "Reproducibility refers to the ability to replicate the model, analysis, or action that you have performed. In other words, if your code is reproducable, others can use your code and documentation to simulate the exact actions that you have done. As discussed in class, there are five elements of generating reproducible work: \n",
    "    1.) Readable - do you have documentation that explains your code (e.g. variables, algorithms, etc.)?\n",
    "    2.) Portable - can your script be simulated on another computer?\n",
    "    3.) Well-named - do your file names describe the purpose of the file?\n",
    "    4.) Repeatable - is your code self-contained and efficient, automating and using functions where possible?\n",
    "    5.) Version Control - do you maintain a record of your codes' changes and are you able to easily handle collaboration?\n",
    "If your code is reproducible, others can easily join a project, you can track your changes and progression across a project, and you can collaborate more easily with others. "
   ],
   "metadata": {}
  },
  {
   "cell_type": "markdown",
   "source": [
    "###### (b) How does version control using Git work?\n",
    "First, you will initialize a new git repository \n",
    "    git init \n",
    "You will then add the files that you would like to be tracked. These files are now \"staged\" to be committed. \n",
    "    git add \n",
    "Once you commit the tracked files, git is essentially taking a snapshot of your repo. This snapshot is assigned a unique hexidecimal number, which can be accessed in the future. Essentially, you will be able to view this version of the repo at that point in time even after you change already existing files and add new files to the repo. \n",
    "    git commit -m \n",
    "    git checkout hexidecimal\n",
    "You can view your repo's history by \n",
    "    git log \n",
    "So far, all of these changes have been made on your local computer. By pushing your commits to Github, you are changing the remote repo; likewise, you can pull the remote repo's current version (assuming other people have pushed new files or made changes) by \n",
    "    git pull \n",
    "If there are any merge conflicts between the local repo and Github, you will need to resolve these conflicts by adjusting the code or file before staging, committing, and pushing the file to Github. "
   ],
   "metadata": {}
  },
  {
   "cell_type": "markdown",
   "source": [
    "###### (c) What is the difference between the is, in, and == operators in Python?"
   ],
   "metadata": {}
  },
  {
   "cell_type": "code",
   "execution_count": 10,
   "source": [
    "list = [1, 2, 3, 4]\n",
    "list1 = [1, 2, 3, 4]\n",
    "# \"Is\" is comparing the id of two objects. \n",
    "# Although the contents of list and list1 are the same, their ids are different. \n",
    "print(list is list1)\n",
    "print(id(list))\n",
    "print(id(list1))"
   ],
   "outputs": [
    {
     "output_type": "stream",
     "name": "stdout",
     "text": [
      "False\n",
      "4468504136\n",
      "4468650440\n"
     ]
    }
   ],
   "metadata": {}
  },
  {
   "cell_type": "code",
   "execution_count": 7,
   "source": [
    "list == list1\n",
    "# \"==\" is assessing wehther the value of two objects are equivalent "
   ],
   "outputs": [
    {
     "output_type": "execute_result",
     "data": {
      "text/plain": [
       "True"
      ]
     },
     "metadata": {},
     "execution_count": 7
    }
   ],
   "metadata": {}
  },
  {
   "cell_type": "code",
   "execution_count": 16,
   "source": [
    "print(1 in list) \n",
    "print(5 in list)\n",
    "# \"In\" assess whether a particular value can be found within the object. "
   ],
   "outputs": [
    {
     "output_type": "stream",
     "name": "stdout",
     "text": [
      "True\n",
      "False\n"
     ]
    }
   ],
   "metadata": {}
  },
  {
   "cell_type": "markdown",
   "source": [
    "###### (d) What is a shallow copy and when do shallow copies occur when programming in Python?\n",
    "Shallow copy stores object reference, and it will adopt the changes of the original list when the original list is storiing nested objects. \n",
    "\n",
    "Deep copies recursively creates a copy of every value in the object, and it doesn't register any changes made to the original copy. "
   ],
   "metadata": {}
  },
  {
   "cell_type": "markdown",
   "source": [
    "###### (e) When analyzing the runtime using Big-O notation, what part of the algorithm do we care the most about?"
   ],
   "metadata": {}
  },
  {
   "cell_type": "markdown",
   "source": [
    "We care most about the parts of the algorithms that will expotentially increase as N increases (e.g., nested loops) "
   ],
   "metadata": {}
  },
  {
   "cell_type": "markdown",
   "source": [
    "##### Question 2"
   ],
   "metadata": {}
  },
  {
   "cell_type": "markdown",
   "source": [
    "###### The following data is downloaded from the World Bank and is organized as a nested list. The data reports a country-level aggregate metric for infant mortality rate (IMR) from 2006 - 2016 for 10 countries. The data is in a “wide format” where each year of IMR measures are reported as a variable. Note the first list in the nested list reports the variable names and each subsequent list reports the country and year values that correspond with the variable names in the first list. (For more information on how the infant mortality rateis measured, go here: https://data.worldbank.org/indicator/SP.DYN.IMRT.IN?view=chart)\n",
    "\n",
    "###### Please write a function that converts thecountry_datainto a dictionary-based data structure equivalentto the one below (seeconverted_data). In your solution,do not import any third-party modules orfunctions, only use Python’s “batteries included” functionality. (5 Points) Note that: 1.The keys aretuples ofcountry-years; recall thattuples are immutable so they function as validdictionary keys. 2. Relevant strings should be converted to numerical values (int/float), 3. Any missing values ('') should be converted to theNoneType."
   ],
   "metadata": {}
  },
  {
   "cell_type": "markdown",
   "source": [],
   "metadata": {}
  },
  {
   "cell_type": "code",
   "execution_count": 181,
   "source": [
    "country_data= [\n",
    "['Country Name', '2006', '2007', '2008', '2009',\n",
    "'2010', '2011', '2012','2013', '2014', '2015', '2016'],\n",
    "['Afghanistan', '', '73.4', '70.8', '68.2', '65.7',\n",
    "'63.3', '61', '58.8', '56.8', '54.9', '53.2'],\n",
    "['Belize', '17.5', '17.2', '16.9', '16.5', '16.1',\n",
    "'15.6', '15.1', '', '14', '13.4', '12.8'],\n",
    "['Germany', '3.8', '3.7', '3.6', '3.6', '3.5', '3.4',\n",
    "'3.3', '3.3', '3.3', '3.3', '3.2'],\n",
    "['Greece', '3.6', '3.5', '3.3', '3.3', '3.2', '3.2',\n",
    "'3.2', '3.2', '3.2', '3.1', '3.1'],\n",
    "['Iceland', '2.3', '2.2', '2.1', '2.1', '2', '', '1.8',\n",
    "'1.7', '1.7', '1.7', '1.6'],\n",
    "['Nigeria', '93.2', '90', '87', '83.9', '81.1', '78.3',\n",
    "'75.7', '73.3', '71', '69', '66.9'],\n",
    "['Thailand', '15', '', '13.8', '13.3', '12.8', '12.4',\n",
    "'12', '11.6', '11.2', '10.8', '10.5'],\n",
    "['United States', '6.7', '6.6', '6.5', '6.4', '6.2',\n",
    "'6.1', '6', '5.9', '5.8', '5.7', '5.6'],\n",
    "['Venezuela, RB', '15.4', '15', '14.8', '14.7', '14.7',\n",
    "'14.7', '14.7', '14.6', '', '14.3', '14'],\n",
    "['Ethiopia','66.4', '62.9', '59.5', '56.5', '', '51.1',\n",
    "'48.6', '46.4', '44.4', '42.6', '41']\n",
    "]"
   ],
   "outputs": [],
   "metadata": {}
  },
  {
   "cell_type": "code",
   "execution_count": 186,
   "source": [
    "# List Comprehension\n",
    "#converted_data = {(row[0],year):rating \n",
    "#for row in country_data[1:] \n",
    "#for rating,year in zip(row[1:],country_data[0][1:]) }\n",
    "#converted_data"
   ],
   "outputs": [
    {
     "output_type": "execute_result",
     "data": {
      "text/plain": [
       "{('Afghanistan', '2006'): '',\n",
       " ('Afghanistan', '2007'): '73.4',\n",
       " ('Afghanistan', '2008'): '70.8',\n",
       " ('Afghanistan', '2009'): '68.2',\n",
       " ('Afghanistan', '2010'): '65.7',\n",
       " ('Afghanistan', '2011'): '63.3',\n",
       " ('Afghanistan', '2012'): '61',\n",
       " ('Afghanistan', '2013'): '58.8',\n",
       " ('Afghanistan', '2014'): '56.8',\n",
       " ('Afghanistan', '2015'): '54.9',\n",
       " ('Afghanistan', '2016'): '53.2',\n",
       " ('Belize', '2006'): '17.5',\n",
       " ('Belize', '2007'): '17.2',\n",
       " ('Belize', '2008'): '16.9',\n",
       " ('Belize', '2009'): '16.5',\n",
       " ('Belize', '2010'): '16.1',\n",
       " ('Belize', '2011'): '15.6',\n",
       " ('Belize', '2012'): '15.1',\n",
       " ('Belize', '2013'): '',\n",
       " ('Belize', '2014'): '14',\n",
       " ('Belize', '2015'): '13.4',\n",
       " ('Belize', '2016'): '12.8',\n",
       " ('Germany', '2006'): '3.8',\n",
       " ('Germany', '2007'): '3.7',\n",
       " ('Germany', '2008'): '3.6',\n",
       " ('Germany', '2009'): '3.6',\n",
       " ('Germany', '2010'): '3.5',\n",
       " ('Germany', '2011'): '3.4',\n",
       " ('Germany', '2012'): '3.3',\n",
       " ('Germany', '2013'): '3.3',\n",
       " ('Germany', '2014'): '3.3',\n",
       " ('Germany', '2015'): '3.3',\n",
       " ('Germany', '2016'): '3.2',\n",
       " ('Greece', '2006'): '3.6',\n",
       " ('Greece', '2007'): '3.5',\n",
       " ('Greece', '2008'): '3.3',\n",
       " ('Greece', '2009'): '3.3',\n",
       " ('Greece', '2010'): '3.2',\n",
       " ('Greece', '2011'): '3.2',\n",
       " ('Greece', '2012'): '3.2',\n",
       " ('Greece', '2013'): '3.2',\n",
       " ('Greece', '2014'): '3.2',\n",
       " ('Greece', '2015'): '3.1',\n",
       " ('Greece', '2016'): '3.1',\n",
       " ('Iceland', '2006'): '2.3',\n",
       " ('Iceland', '2007'): '2.2',\n",
       " ('Iceland', '2008'): '2.1',\n",
       " ('Iceland', '2009'): '2.1',\n",
       " ('Iceland', '2010'): '2',\n",
       " ('Iceland', '2011'): '',\n",
       " ('Iceland', '2012'): '1.8',\n",
       " ('Iceland', '2013'): '1.7',\n",
       " ('Iceland', '2014'): '1.7',\n",
       " ('Iceland', '2015'): '1.7',\n",
       " ('Iceland', '2016'): '1.6',\n",
       " ('Nigeria', '2006'): '93.2',\n",
       " ('Nigeria', '2007'): '90',\n",
       " ('Nigeria', '2008'): '87',\n",
       " ('Nigeria', '2009'): '83.9',\n",
       " ('Nigeria', '2010'): '81.1',\n",
       " ('Nigeria', '2011'): '78.3',\n",
       " ('Nigeria', '2012'): '75.7',\n",
       " ('Nigeria', '2013'): '73.3',\n",
       " ('Nigeria', '2014'): '71',\n",
       " ('Nigeria', '2015'): '69',\n",
       " ('Nigeria', '2016'): '66.9',\n",
       " ('Thailand', '2006'): '15',\n",
       " ('Thailand', '2007'): '',\n",
       " ('Thailand', '2008'): '13.8',\n",
       " ('Thailand', '2009'): '13.3',\n",
       " ('Thailand', '2010'): '12.8',\n",
       " ('Thailand', '2011'): '12.4',\n",
       " ('Thailand', '2012'): '12',\n",
       " ('Thailand', '2013'): '11.6',\n",
       " ('Thailand', '2014'): '11.2',\n",
       " ('Thailand', '2015'): '10.8',\n",
       " ('Thailand', '2016'): '10.5',\n",
       " ('United States', '2006'): '6.7',\n",
       " ('United States', '2007'): '6.6',\n",
       " ('United States', '2008'): '6.5',\n",
       " ('United States', '2009'): '6.4',\n",
       " ('United States', '2010'): '6.2',\n",
       " ('United States', '2011'): '6.1',\n",
       " ('United States', '2012'): '6',\n",
       " ('United States', '2013'): '5.9',\n",
       " ('United States', '2014'): '5.8',\n",
       " ('United States', '2015'): '5.7',\n",
       " ('United States', '2016'): '5.6',\n",
       " ('Venezuela, RB', '2006'): '15.4',\n",
       " ('Venezuela, RB', '2007'): '15',\n",
       " ('Venezuela, RB', '2008'): '14.8',\n",
       " ('Venezuela, RB', '2009'): '14.7',\n",
       " ('Venezuela, RB', '2010'): '14.7',\n",
       " ('Venezuela, RB', '2011'): '14.7',\n",
       " ('Venezuela, RB', '2012'): '14.7',\n",
       " ('Venezuela, RB', '2013'): '14.6',\n",
       " ('Venezuela, RB', '2014'): '',\n",
       " ('Venezuela, RB', '2015'): '14.3',\n",
       " ('Venezuela, RB', '2016'): '14',\n",
       " ('Ethiopia', '2006'): '66.4',\n",
       " ('Ethiopia', '2007'): '62.9',\n",
       " ('Ethiopia', '2008'): '59.5',\n",
       " ('Ethiopia', '2009'): '56.5',\n",
       " ('Ethiopia', '2010'): '',\n",
       " ('Ethiopia', '2011'): '51.1',\n",
       " ('Ethiopia', '2012'): '48.6',\n",
       " ('Ethiopia', '2013'): '46.4',\n",
       " ('Ethiopia', '2014'): '44.4',\n",
       " ('Ethiopia', '2015'): '42.6',\n",
       " ('Ethiopia', '2016'): '41'}"
      ]
     },
     "metadata": {},
     "execution_count": 186
    }
   ],
   "metadata": {}
  },
  {
   "cell_type": "code",
   "execution_count": 221,
   "source": [
    "def convert_to_dict(country_data = []):\n",
    "    \"\"\"\n",
    "    Takes a list; returns dictionary \n",
    "    \n",
    "    Arguments\n",
    "    --------------\n",
    "    state : list \n",
    "        Nested list of years, countries, and infant mortality rates\n",
    "    \n",
    "    Return\n",
    "    --------------\n",
    "        Dictionary (Country, Year: Rate)\n",
    "    \"\"\"\n",
    "    \n",
    "    converted_data = {} # Create empty dictionary # constant 1 \n",
    "    for row in country_data[1:]: # For loop to filter through country data \n",
    "        for i in range(len(country_data[0][1:])): # For loop to filter through the years \n",
    "            year = int(country_data[0][1:][i]) # Declare year variable\n",
    "            rate = row[1:][i] # Declare rate value \n",
    "            if rate == '': # If the rate value is missing\n",
    "                rate = None # Asssign it as a NoneType\n",
    "            else: \n",
    "                rate = float(row[1:][i]) # Otherwise make it a float \n",
    "            element = {(row[0],year): rate} # Add country, year, and rate values to a dict\n",
    "            converted_data.update(element) # Update master dict with element dict\n",
    "    return converted_data\n",
    "\n",
    "converted_data = convert_to_dict(country_data) # Assign global variable\n",
    "\n",
    "convert_to_dict(country_data) # Call function"
   ],
   "outputs": [
    {
     "output_type": "execute_result",
     "data": {
      "text/plain": [
       "{('Afghanistan', 2006): None,\n",
       " ('Afghanistan', 2007): 73.4,\n",
       " ('Afghanistan', 2008): 70.8,\n",
       " ('Afghanistan', 2009): 68.2,\n",
       " ('Afghanistan', 2010): 65.7,\n",
       " ('Afghanistan', 2011): 63.3,\n",
       " ('Afghanistan', 2012): 61.0,\n",
       " ('Afghanistan', 2013): 58.8,\n",
       " ('Afghanistan', 2014): 56.8,\n",
       " ('Afghanistan', 2015): 54.9,\n",
       " ('Afghanistan', 2016): 53.2,\n",
       " ('Belize', 2006): 17.5,\n",
       " ('Belize', 2007): 17.2,\n",
       " ('Belize', 2008): 16.9,\n",
       " ('Belize', 2009): 16.5,\n",
       " ('Belize', 2010): 16.1,\n",
       " ('Belize', 2011): 15.6,\n",
       " ('Belize', 2012): 15.1,\n",
       " ('Belize', 2013): None,\n",
       " ('Belize', 2014): 14.0,\n",
       " ('Belize', 2015): 13.4,\n",
       " ('Belize', 2016): 12.8,\n",
       " ('Germany', 2006): 3.8,\n",
       " ('Germany', 2007): 3.7,\n",
       " ('Germany', 2008): 3.6,\n",
       " ('Germany', 2009): 3.6,\n",
       " ('Germany', 2010): 3.5,\n",
       " ('Germany', 2011): 3.4,\n",
       " ('Germany', 2012): 3.3,\n",
       " ('Germany', 2013): 3.3,\n",
       " ('Germany', 2014): 3.3,\n",
       " ('Germany', 2015): 3.3,\n",
       " ('Germany', 2016): 3.2,\n",
       " ('Greece', 2006): 3.6,\n",
       " ('Greece', 2007): 3.5,\n",
       " ('Greece', 2008): 3.3,\n",
       " ('Greece', 2009): 3.3,\n",
       " ('Greece', 2010): 3.2,\n",
       " ('Greece', 2011): 3.2,\n",
       " ('Greece', 2012): 3.2,\n",
       " ('Greece', 2013): 3.2,\n",
       " ('Greece', 2014): 3.2,\n",
       " ('Greece', 2015): 3.1,\n",
       " ('Greece', 2016): 3.1,\n",
       " ('Iceland', 2006): 2.3,\n",
       " ('Iceland', 2007): 2.2,\n",
       " ('Iceland', 2008): 2.1,\n",
       " ('Iceland', 2009): 2.1,\n",
       " ('Iceland', 2010): 2.0,\n",
       " ('Iceland', 2011): None,\n",
       " ('Iceland', 2012): 1.8,\n",
       " ('Iceland', 2013): 1.7,\n",
       " ('Iceland', 2014): 1.7,\n",
       " ('Iceland', 2015): 1.7,\n",
       " ('Iceland', 2016): 1.6,\n",
       " ('Nigeria', 2006): 93.2,\n",
       " ('Nigeria', 2007): 90.0,\n",
       " ('Nigeria', 2008): 87.0,\n",
       " ('Nigeria', 2009): 83.9,\n",
       " ('Nigeria', 2010): 81.1,\n",
       " ('Nigeria', 2011): 78.3,\n",
       " ('Nigeria', 2012): 75.7,\n",
       " ('Nigeria', 2013): 73.3,\n",
       " ('Nigeria', 2014): 71.0,\n",
       " ('Nigeria', 2015): 69.0,\n",
       " ('Nigeria', 2016): 66.9,\n",
       " ('Thailand', 2006): 15.0,\n",
       " ('Thailand', 2007): None,\n",
       " ('Thailand', 2008): 13.8,\n",
       " ('Thailand', 2009): 13.3,\n",
       " ('Thailand', 2010): 12.8,\n",
       " ('Thailand', 2011): 12.4,\n",
       " ('Thailand', 2012): 12.0,\n",
       " ('Thailand', 2013): 11.6,\n",
       " ('Thailand', 2014): 11.2,\n",
       " ('Thailand', 2015): 10.8,\n",
       " ('Thailand', 2016): 10.5,\n",
       " ('United States', 2006): 6.7,\n",
       " ('United States', 2007): 6.6,\n",
       " ('United States', 2008): 6.5,\n",
       " ('United States', 2009): 6.4,\n",
       " ('United States', 2010): 6.2,\n",
       " ('United States', 2011): 6.1,\n",
       " ('United States', 2012): 6.0,\n",
       " ('United States', 2013): 5.9,\n",
       " ('United States', 2014): 5.8,\n",
       " ('United States', 2015): 5.7,\n",
       " ('United States', 2016): 5.6,\n",
       " ('Venezuela, RB', 2006): 15.4,\n",
       " ('Venezuela, RB', 2007): 15.0,\n",
       " ('Venezuela, RB', 2008): 14.8,\n",
       " ('Venezuela, RB', 2009): 14.7,\n",
       " ('Venezuela, RB', 2010): 14.7,\n",
       " ('Venezuela, RB', 2011): 14.7,\n",
       " ('Venezuela, RB', 2012): 14.7,\n",
       " ('Venezuela, RB', 2013): 14.6,\n",
       " ('Venezuela, RB', 2014): None,\n",
       " ('Venezuela, RB', 2015): 14.3,\n",
       " ('Venezuela, RB', 2016): 14.0,\n",
       " ('Ethiopia', 2006): 66.4,\n",
       " ('Ethiopia', 2007): 62.9,\n",
       " ('Ethiopia', 2008): 59.5,\n",
       " ('Ethiopia', 2009): 56.5,\n",
       " ('Ethiopia', 2010): None,\n",
       " ('Ethiopia', 2011): 51.1,\n",
       " ('Ethiopia', 2012): 48.6,\n",
       " ('Ethiopia', 2013): 46.4,\n",
       " ('Ethiopia', 2014): 44.4,\n",
       " ('Ethiopia', 2015): 42.6,\n",
       " ('Ethiopia', 2016): 41.0}"
      ]
     },
     "metadata": {},
     "execution_count": 221
    }
   ],
   "metadata": {}
  },
  {
   "cell_type": "markdown",
   "source": [
    "###### (b) Analyze the run-time of your solution to 3.a using Big-O Notation."
   ],
   "metadata": {}
  },
  {
   "cell_type": "markdown",
   "source": [
    "5(n) + 2\n",
    "Questions => how do you treat if else statements; how do you notate a nested list\n",
    "=> is n the full data or just the items "
   ],
   "metadata": {}
  },
  {
   "cell_type": "markdown",
   "source": [
    "##### Question 3"
   ],
   "metadata": {}
  },
  {
   "cell_type": "markdown",
   "source": [
    "###### Using the reformatted World Bank data from Question 2, please answer the following questions. Again, do not import any third-party modules or functions in answering these questions only use Python’s “batteries included” functionality. (a) Which country-year has the lowest infant mortality rate, given the available data? Please write a function in python that calculates this statistic and locates the relevant country-year key. Use the min_cntyear label to store the key. (Hint: min() is a built-in function that locates the minimum value in a list.) Please print the min_cntyear object at the end of the code chunk. (Points 5)"
   ],
   "metadata": {}
  },
  {
   "cell_type": "code",
   "execution_count": 215,
   "source": [
    "# List Comprehension \n",
    "#min_cntyear_val = min(x for x in converted_data.values() if x is not None)\n",
    "#min_cntyear = [key for key in converted_data if converted_data[key] == min_cntyear_val]\n",
    "#print(min_cntyear)"
   ],
   "outputs": [
    {
     "output_type": "stream",
     "name": "stdout",
     "text": [
      "[('Iceland', 2016)]\n"
     ]
    }
   ],
   "metadata": {
    "scrolled": true
   }
  },
  {
   "cell_type": "code",
   "execution_count": 218,
   "source": [
    "def lowest_mort(converted_data = {}): \n",
    "    \"\"\"\n",
    "    Takes a dict; returns list (country-year of lowest infant mortality rate)\n",
    "    \n",
    "    Arguments\n",
    "    --------------\n",
    "    state : dictionary\n",
    "        Dictionary (Country, Year: Morality Rate)\n",
    "    \n",
    "    Return\n",
    "    --------------\n",
    "        list of country and year of lost infant mortality rate instance \n",
    "    \"\"\"\n",
    "    \n",
    "    min_cntyear_val = 99999 # Declare int object \n",
    "    for x in converted_data.values(): # For loop to find smallest value \n",
    "        if x is not None: \n",
    "            if x < min_cntyear_val: # Assign x to object if value is smaller than existing value\n",
    "                min_cntyear_val = x\n",
    "\n",
    "    min_cntyear = [] # Declare empty list \n",
    "    for key in converted_data: # For loop to match min_cntyear_val to key(country, year)\n",
    "        if converted_data[key] == min_cntyear_val: \n",
    "            min_cntyear.append(key)\n",
    "    return min_cntyear\n",
    "\n",
    "lowest_mort(converted_data) # Call function\n"
   ],
   "outputs": [
    {
     "output_type": "execute_result",
     "data": {
      "text/plain": [
       "[('Iceland', 2016)]"
      ]
     },
     "metadata": {},
     "execution_count": 218
    }
   ],
   "metadata": {
    "scrolled": true
   }
  },
  {
   "cell_type": "markdown",
   "source": [
    "###### (b) Analyze the run-time of your solution to 3.a using Big-O Notation."
   ],
   "metadata": {}
  },
  {
   "cell_type": "markdown",
   "source": [
    "3 + 3n + 2n or 3 + n + n => 5n + 3 or 2n + 3 "
   ],
   "metadata": {}
  },
  {
   "cell_type": "markdown",
   "source": [
    "##### Question 4"
   ],
   "metadata": {}
  },
  {
   "cell_type": "markdown",
   "source": [
    "###### (a) Please write a function in python using what we know that calculates the necessary statistic and store the result as a dictionary using the country as key and the average infant mortality rate as value. Please refer to the dict object as country_aves. Averages should be rounded tothe 1st decimal place. (5 point)"
   ],
   "metadata": {}
  },
  {
   "cell_type": "code",
   "execution_count": 240,
   "source": [
    "def avg_mort(converted_data = {}): \n",
    "    \"\"\"\n",
    "    Takes a dict; returns dict of avg mortality rates for each country\n",
    "    \n",
    "    Arguments\n",
    "    --------------\n",
    "    state : dictionary\n",
    "        Dict(Country, Year: Morality Rate)\n",
    "    \n",
    "    Return\n",
    "    --------------\n",
    "        Dict of country's avg mortality rate (Country: Avg Rate)\n",
    "    \"\"\"\n",
    "    # Find components of average \n",
    "    country_aves = dict() # Declare empty dict \n",
    "    for key,val in converted_data.items(): # For loop to find sum and number rates\n",
    "        country_name = key[0]\n",
    "        if val is not None:\n",
    "            if country_name in country_aves:    \n",
    "                country_aves[country_name][0]+=val # S, Summation\n",
    "                country_aves[country_name][1]+=1 # N, Number of values\n",
    "            else :\n",
    "                country_aves[country_name] = [val,1]\n",
    "\n",
    "    # Calculate avg \n",
    "    for key,val in country_aves.items(): # For loop to add avg rates to key value\n",
    "        country_aves[key] = round(val[0]/val[1], 1)\n",
    "    \n",
    "    return(country_aves)\n",
    "\n",
    "avg_mort(converted_data) # Call function"
   ],
   "outputs": [
    {
     "output_type": "execute_result",
     "data": {
      "text/plain": [
       "{'Afghanistan': 62.6,\n",
       " 'Belize': 15.5,\n",
       " 'Germany': 3.5,\n",
       " 'Greece': 3.3,\n",
       " 'Iceland': 1.9,\n",
       " 'Nigeria': 79.0,\n",
       " 'Thailand': 12.3,\n",
       " 'United States': 6.1,\n",
       " 'Venezuela, RB': 14.7,\n",
       " 'Ethiopia': 51.9}"
      ]
     },
     "metadata": {},
     "execution_count": 240
    }
   ],
   "metadata": {}
  },
  {
   "cell_type": "markdown",
   "source": [
    "###### Analyze the run-time of your solution to 4.a using Big-O Notation."
   ],
   "metadata": {}
  },
  {
   "cell_type": "raw",
   "source": [
    "2 + 2n + n\n",
    "3n + 2"
   ],
   "metadata": {}
  }
 ],
 "metadata": {
  "kernelspec": {
   "display_name": "Python 3",
   "language": "python",
   "name": "python3"
  },
  "language_info": {
   "codemirror_mode": {
    "name": "ipython",
    "version": 3
   },
   "file_extension": ".py",
   "mimetype": "text/x-python",
   "name": "python",
   "nbconvert_exporter": "python",
   "pygments_lexer": "ipython3",
   "version": "3.7.1"
  }
 },
 "nbformat": 4,
 "nbformat_minor": 2
}