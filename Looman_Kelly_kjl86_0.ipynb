{
 "cells": [
  {
   "cell_type": "markdown",
   "source": [
    "## Coding Discussion 2\n",
    "### Preparation "
   ],
   "metadata": {}
  },
  {
   "cell_type": "code",
   "execution_count": 209,
   "source": [
    "# Import libraries \n",
    "import pandas as pd\n",
    "# Read in US States csv file \n",
    "import csv\n",
    "with open('us-states.csv') as file:\n",
    "    state_covid_data = []\n",
    "    for row in csv.reader(file):\n",
    "        state_covid_data.append(row)\n",
    "len(state_covid_data) # Length of data "
   ],
   "outputs": [
    {
     "output_type": "execute_result",
     "data": {
      "text/plain": [
       "10080"
      ]
     },
     "metadata": {},
     "execution_count": 209
    }
   ],
   "metadata": {}
  },
  {
   "cell_type": "markdown",
   "source": [
    "### (1) Count up the number of _unique_ dates in the data (with pd). "
   ],
   "metadata": {}
  },
  {
   "cell_type": "code",
   "execution_count": 210,
   "source": [
    "df = pd.DataFrame(state_covid_data) # Add data as a dataframe  \n",
    "df = df.iloc[1: , :] # Remove header \n",
    "unique_dates = [] # Create empty list to store unique dates \n",
    "\n",
    "for i in df[0]: # Create for loop that runs through first column of df\n",
    "    if i not in unique_dates: # If i is not found in list\n",
    "        unique_dates.append(i) # Append i to list"
   ],
   "outputs": [],
   "metadata": {}
  },
  {
   "cell_type": "code",
   "execution_count": 211,
   "source": [
    "print(unique_dates[1:10]) # Print first 9 dates of list \n",
    "print(len(unique_dates)) # Print length of list "
   ],
   "outputs": [
    {
     "output_type": "stream",
     "name": "stdout",
     "text": [
      "['2020-01-22', '2020-01-23', '2020-01-24', '2020-01-25', '2020-01-26', '2020-01-27', '2020-01-28', '2020-01-29', '2020-01-30']\n",
      "225\n"
     ]
    }
   ],
   "metadata": {}
  },
  {
   "cell_type": "markdown",
   "source": [
    "### (2) Find the first date in which the District of Columbia recorded a case (with pd).  "
   ],
   "metadata": {}
  },
  {
   "cell_type": "code",
   "execution_count": 212,
   "source": [
    "sort_df = df.sort_values(0) # Sort df by date\n",
    "counter = 0 # Incremental counter \n",
    "for i in sort_df[1]: # Create for loop to run through state column \n",
    "    if i == (\"District of Columbia\"): # If value is equivalent to Washington \n",
    "        print(df.iat[counter,0]) # Print corresponding date value \n",
    "        break # End function\n",
    "    counter += 1 # Otherwise increase counter value by 1"
   ],
   "outputs": [
    {
     "output_type": "stream",
     "name": "stdout",
     "text": [
      "2020-03-07\n"
     ]
    }
   ],
   "metadata": {}
  },
  {
   "cell_type": "markdown",
   "source": [
    "### (3) Write a function that takes in a state name as input (e.g. \"Wisconsin\") and outputs the date of its first case (with pd). "
   ],
   "metadata": {}
  },
  {
   "cell_type": "code",
   "execution_count": 213,
   "source": [
    "def first_case(state_name = \"\"): \n",
    "    \n",
    "    \"\"\"\n",
    "    Takes in a string state and returns the date of state's first case. \n",
    "    \n",
    "    Arguments\n",
    "    --------------\n",
    "    state : str\n",
    "        A text string of a U.S. state name. \n",
    "    \n",
    "    Return\n",
    "    --------------\n",
    "        Date of state's first case \n",
    "    \"\"\"\n",
    "    \n",
    "    sort_df = df.sort_values(0) # Sort df by date\n",
    "    counter = 0 # Incremental counter\n",
    "    for i in sort_df[1]: # Create for loop to run through state column\n",
    "        if i == (state_name): # If value is equivalent to Washington \n",
    "            return(sort_df.iat[counter,0]) # Print corresponding date value \n",
    "            break # End function\n",
    "        counter += 1 # Otherwise increase counter value by 1\n",
    "    return \"{} is not found. Please try again.\".format(state_name)"
   ],
   "outputs": [],
   "metadata": {}
  },
  {
   "cell_type": "code",
   "execution_count": 214,
   "source": [
    "first_case(\"Wisconsin\") # Example 1 "
   ],
   "outputs": [
    {
     "output_type": "execute_result",
     "data": {
      "text/plain": [
       "'2020-02-05'"
      ]
     },
     "metadata": {},
     "execution_count": 214
    }
   ],
   "metadata": {}
  },
  {
   "cell_type": "code",
   "execution_count": 215,
   "source": [
    "first_case(\"Hello\") # Example 2"
   ],
   "outputs": [
    {
     "output_type": "execute_result",
     "data": {
      "text/plain": [
       "'Hello is not found. Please try again.'"
      ]
     },
     "metadata": {},
     "execution_count": 215
    }
   ],
   "metadata": {}
  },
  {
   "cell_type": "markdown",
   "source": [
    "### (Optional) Bonus: Write a function that takes in a state name as input (e.g. \"Wisconsin\") and outputs the date when the number of reported cases within the state exceeded 1000."
   ],
   "metadata": {}
  },
  {
   "cell_type": "code",
   "execution_count": 216,
   "source": [
    "def cases_1000(state_cases = \"\"): \n",
    "    \n",
    "    \"\"\"\n",
    "    Takes in a string state and returns the date of state's first case that exceeds 1000. \n",
    "    \n",
    "    Arguments\n",
    "    --------------\n",
    "    state : str\n",
    "        A text string of a U.S. state name. \n",
    "    \n",
    "    Return\n",
    "    --------------\n",
    "        Date of state's first case that exceeds 1000. \n",
    "    \"\"\"\n",
    "    \n",
    "    sort_df = df.sort_values(0) # Sort df by date\n",
    "    counter = 0 # Incremental counter \n",
    "    dict = {\"Date\":[],\"State\":[],\"Cases\":[]} # Create dictionary \n",
    "    for i in sort_df[1]: # Create for loop to run through state column \n",
    "        if (i == (state_cases)) and (float(sort_df.iat[counter,3]) > 1000): # If value is equivalent to Washington \n",
    "                                                                            # And cases are greater than 1000 \n",
    "            dict.update({\"Date\": i, \"State\": sort_df.iat[counter,0], \"Cases\": sort_df.iat[counter,3]}) # Update dictionary\n",
    "            return(dict) # Return dictionary \n",
    "            break # End function \n",
    "        counter += 1 # Otherwise increase counter value by 1\n",
    "    return \"{} is not found. Please try again.\".format(state_cases)"
   ],
   "outputs": [],
   "metadata": {}
  },
  {
   "cell_type": "code",
   "execution_count": 217,
   "source": [
    "cases_1000(\"Washington\") # Example 1 "
   ],
   "outputs": [
    {
     "output_type": "execute_result",
     "data": {
      "text/plain": [
       "{'Date': 'Washington', 'State': '2020-03-18', 'Cases': '1026'}"
      ]
     },
     "metadata": {},
     "execution_count": 217
    }
   ],
   "metadata": {}
  },
  {
   "cell_type": "code",
   "execution_count": 218,
   "source": [
    "cases_1000(\"Hello\") # Example 2"
   ],
   "outputs": [
    {
     "output_type": "execute_result",
     "data": {
      "text/plain": [
       "'Hello is not found. Please try again.'"
      ]
     },
     "metadata": {},
     "execution_count": 218
    }
   ],
   "metadata": {}
  },
  {
   "cell_type": "markdown",
   "source": [
    "### (1) Count up the number of _unique_ dates in the data (without pd). "
   ],
   "metadata": {}
  },
  {
   "cell_type": "code",
   "execution_count": 219,
   "source": [
    "unique_dates = [] # Create empty list \n",
    "\n",
    "for i in range(1, len(state_covid_data[1:])): # For loop to identify unique dates in list \n",
    "    date = state_covid_data[i][0] # Date variable is assigned date value \n",
    "    if date not in unique_dates: # If date is not in created list \n",
    "        unique_dates+=[date] # Append date value to list "
   ],
   "outputs": [],
   "metadata": {}
  },
  {
   "cell_type": "code",
   "execution_count": 220,
   "source": [
    "len(unique_dates) # Number of unique dates"
   ],
   "outputs": [
    {
     "output_type": "execute_result",
     "data": {
      "text/plain": [
       "225"
      ]
     },
     "metadata": {},
     "execution_count": 220
    }
   ],
   "metadata": {}
  },
  {
   "cell_type": "markdown",
   "source": [
    "### (2) Find the first date in which the District of Columbia recorded a case (without pd). "
   ],
   "metadata": {}
  },
  {
   "cell_type": "code",
   "execution_count": 221,
   "source": [
    "def first_date_DC(state_covid_data = []): \n",
    "    \n",
    "    \"\"\"\n",
    "    Takes in a list and returns the date of D.C.'s first case. \n",
    "    \n",
    "    Arguments\n",
    "    --------------\n",
    "    state_covid_data\n",
    "    \n",
    "        A list of state covid data  \n",
    "    \n",
    "    Return\n",
    "    --------------\n",
    "        Date of D.C.'s first case \n",
    "    \"\"\"\n",
    "    \n",
    "    for i in range(1, len(state_covid_data[1:])): # For loop to run through data set starting with row 1\n",
    "        if state_covid_data[i][1] == \"District of Columbia\": # If instance is equal to District of Columbia \n",
    "            return(state_covid_data[i][0]) # Print date \n",
    "            break # Stop loop \n",
    "    return \"D.C. is not found in list. Please try again.\""
   ],
   "outputs": [],
   "metadata": {}
  },
  {
   "cell_type": "code",
   "execution_count": 222,
   "source": [
    "first_date_DC(state_covid_data) # Example 1 "
   ],
   "outputs": [
    {
     "output_type": "execute_result",
     "data": {
      "text/plain": [
       "'2020-03-07'"
      ]
     },
     "metadata": {},
     "execution_count": 222
    }
   ],
   "metadata": {}
  },
  {
   "cell_type": "code",
   "execution_count": 223,
   "source": [
    "x = []\n",
    "first_date_DC(x) # Example 2 "
   ],
   "outputs": [
    {
     "output_type": "execute_result",
     "data": {
      "text/plain": [
       "'D.C. is not found in list. Please try again.'"
      ]
     },
     "metadata": {},
     "execution_count": 223
    }
   ],
   "metadata": {}
  },
  {
   "cell_type": "markdown",
   "source": [
    "### (3) Write a function that takes in a state name as input (e.g. \"Wisconsin\") and outputs the date of its first case (without pd). "
   ],
   "metadata": {}
  },
  {
   "cell_type": "code",
   "execution_count": 224,
   "source": [
    "def first_case_nopd(state: str): \n",
    "    \n",
    "    \"\"\"\n",
    "    Takes in a string state and returns the date of state's first case. \n",
    "    \n",
    "    Arguments\n",
    "    --------------\n",
    "    state : str\n",
    "        A text string of a U.S. state name.\n",
    "    \n",
    "    Return\n",
    "    --------------\n",
    "         Date of state's first case \n",
    "    \"\"\"\n",
    "\n",
    "    for i in range(1,len(state_covid_data[1:])):\n",
    "        if state_covid_data[i][1] == state: # If value is equivalent to input \n",
    "            return(state_covid_data[i][0]) # Return first case date \n",
    "            break # Break loop \n",
    "    return (\"{} is not found. Please try again\".format(state)) # Return message if value is not found in list "
   ],
   "outputs": [],
   "metadata": {}
  },
  {
   "cell_type": "code",
   "execution_count": 225,
   "source": [
    "first_case_nopd('Wisconsin') # Example 1 "
   ],
   "outputs": [
    {
     "output_type": "execute_result",
     "data": {
      "text/plain": [
       "'2020-02-05'"
      ]
     },
     "metadata": {},
     "execution_count": 225
    }
   ],
   "metadata": {}
  },
  {
   "cell_type": "code",
   "execution_count": 226,
   "source": [
    "first_case_nopd('Hello') # Example 2 "
   ],
   "outputs": [
    {
     "output_type": "execute_result",
     "data": {
      "text/plain": [
       "'Hello is not found. Please try again'"
      ]
     },
     "metadata": {},
     "execution_count": 226
    }
   ],
   "metadata": {
    "scrolled": true
   }
  },
  {
   "cell_type": "markdown",
   "source": [
    "### (Optional) Bonus: Write a function that takes in a state name as input (e.g. \"Wisconsin\") and outputs the date when the number of reported cases within the state exceeded 1000 (without pd). "
   ],
   "metadata": {}
  },
  {
   "cell_type": "code",
   "execution_count": 227,
   "source": [
    "def cases_1000_nopd(state: str):\n",
    "\n",
    "    \"\"\"\n",
    "    Takes in a string state and returns the date of state's first case that exceeds 1000. \n",
    "    \n",
    "    Arguments\n",
    "    --------------\n",
    "    state : str\n",
    "        A text string of a U.S. state name.    \n",
    "        \n",
    "    Return\n",
    "    --------------\n",
    "        Date of state's first case     \n",
    "    \"\"\"\n",
    "    \n",
    "    for i in range(1,len(state_covid_data[1:])):\n",
    "        if state_covid_data[i][1] == state and float(state_covid_data[i][3]) > 1000: # If value is equivalent to input \n",
    "            return(state_covid_data[i][0]) # Return first case date \n",
    "            break # Break loop \n",
    "    return (\"{} is not found. Please try again\".format(state)) # Return message if value is not found in list \n"
   ],
   "outputs": [],
   "metadata": {}
  },
  {
   "cell_type": "code",
   "execution_count": 228,
   "source": [
    "cases_1000_nopd('Washington') # Example 1 "
   ],
   "outputs": [
    {
     "output_type": "execute_result",
     "data": {
      "text/plain": [
       "'2020-03-18'"
      ]
     },
     "metadata": {},
     "execution_count": 228
    }
   ],
   "metadata": {}
  },
  {
   "cell_type": "code",
   "execution_count": 229,
   "source": [
    "cases_1000_nopd('Hello') # Example 2 "
   ],
   "outputs": [
    {
     "output_type": "execute_result",
     "data": {
      "text/plain": [
       "'Hello is not found. Please try again'"
      ]
     },
     "metadata": {},
     "execution_count": 229
    }
   ],
   "metadata": {}
  }
 ],
 "metadata": {
  "kernelspec": {
   "display_name": "Python 3",
   "language": "python",
   "name": "python3"
  },
  "language_info": {
   "codemirror_mode": {
    "name": "ipython",
    "version": 3
   },
   "file_extension": ".py",
   "mimetype": "text/x-python",
   "name": "python",
   "nbconvert_exporter": "python",
   "pygments_lexer": "ipython3",
   "version": "3.7.1"
  }
 },
 "nbformat": 4,
 "nbformat_minor": 2
}